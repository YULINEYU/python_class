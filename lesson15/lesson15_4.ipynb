{
 "cells": [
  {
   "cell_type": "code",
   "execution_count": 3,
   "id": "27ecd0eb",
   "metadata": {},
   "outputs": [
    {
     "data": {
      "text/plain": [
       "0     50\n",
       "1     51\n",
       "2     52\n",
       "3     53\n",
       "4     54\n",
       "5     55\n",
       "6     56\n",
       "7     57\n",
       "8     58\n",
       "9     59\n",
       "10    60\n",
       "11    61\n",
       "12    62\n",
       "13    63\n",
       "14    64\n",
       "15    65\n",
       "16    66\n",
       "17    67\n",
       "18    68\n",
       "19    69\n",
       "dtype: int32"
      ]
     },
     "execution_count": 3,
     "metadata": {},
     "output_type": "execute_result"
    }
   ],
   "source": [
    "import numpy as np\n",
    "import pandas as pd\n",
    "\n",
    "s1 = pd.Series(np.arange(50,70))\n",
    "s1"
   ]
  },
  {
   "cell_type": "code",
   "execution_count": null,
   "id": "7c99a1b3",
   "metadata": {},
   "outputs": [
    {
     "data": {
      "text/plain": [
       "10    60\n",
       "11    61\n",
       "12    62\n",
       "13    63\n",
       "14    64\n",
       "15    65\n",
       "16    66\n",
       "17    67\n",
       "18    68\n",
       "19    69\n",
       "dtype: int32"
      ]
     },
     "execution_count": 6,
     "metadata": {},
     "output_type": "execute_result"
    }
   ],
   "source": [
    "#透過值的選取\n",
    "#值的搜尋\n",
    "#mask的技巧,要使用比較運算子得到boolean的資料\n",
    "mask = s1 >= 60\n",
    "s1"
   ]
  },
  {
   "cell_type": "code",
   "execution_count": 8,
   "id": "87c977ee",
   "metadata": {},
   "outputs": [
    {
     "data": {
      "text/plain": [
       "0    50\n",
       "1    51\n",
       "2    52\n",
       "3    53\n",
       "4    54\n",
       "5    55\n",
       "6    56\n",
       "7    57\n",
       "8    58\n",
       "9    59\n",
       "dtype: int32"
      ]
     },
     "execution_count": 8,
     "metadata": {},
     "output_type": "execute_result"
    }
   ],
   "source": [
    "s1[s1 < 60]"
   ]
  }
 ],
 "metadata": {
  "kernelspec": {
   "display_name": "base",
   "language": "python",
   "name": "python3"
  },
  "language_info": {
   "codemirror_mode": {
    "name": "ipython",
    "version": 3
   },
   "file_extension": ".py",
   "mimetype": "text/x-python",
   "name": "python",
   "nbconvert_exporter": "python",
   "pygments_lexer": "ipython3",
   "version": "3.12.7"
  }
 },
 "nbformat": 4,
 "nbformat_minor": 5
}
