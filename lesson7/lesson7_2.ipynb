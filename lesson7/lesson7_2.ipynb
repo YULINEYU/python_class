{
 "cells": [
  {
   "cell_type": "markdown",
   "id": "f881114e",
   "metadata": {},
   "source": [
    "```python\n",
    "print(*objects, sep=' ', end='\\n', file=None, flush=False)\n",
    "```"
   ]
  },
  {
   "cell_type": "code",
   "execution_count": 1,
   "id": "ee8dbe22",
   "metadata": {},
   "outputs": [
    {
     "name": "stdout",
     "output_type": "stream",
     "text": [
      "1 3 5 a b c結束\n"
     ]
    }
   ],
   "source": [
    "print(1, 3, 5, 'a', 'b', 'c',end='結束\\n')"
   ]
  },
  {
   "cell_type": "code",
   "execution_count": 2,
   "id": "bf9fb41c",
   "metadata": {},
   "outputs": [
    {
     "name": "stdout",
     "output_type": "stream",
     "text": [
      "1-3-5-a-b-c結束\n"
     ]
    }
   ],
   "source": [
    "print(1, 3, 5, 'a', 'b', 'c',end='結束\\n',sep='-')"
   ]
  }
 ],
 "metadata": {
  "kernelspec": {
   "display_name": "base",
   "language": "python",
   "name": "python3"
  },
  "language_info": {
   "codemirror_mode": {
    "name": "ipython",
    "version": 3
   },
   "file_extension": ".py",
   "mimetype": "text/x-python",
   "name": "python",
   "nbconvert_exporter": "python",
   "pygments_lexer": "ipython3",
   "version": "3.13.2"
  }
 },
 "nbformat": 4,
 "nbformat_minor": 5
}
