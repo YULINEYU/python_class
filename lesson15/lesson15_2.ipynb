{
 "cells": [
  {
   "cell_type": "markdown",
   "id": "aeed7e37",
   "metadata": {},
   "source": [
    "https://www.perplexity.ai/search/27854047-0059-44b3-b1ed-b6dbdddd6505"
   ]
  },
  {
   "cell_type": "markdown",
   "id": "a49cfd01",
   "metadata": {},
   "source": [
    "### numpy的索引和切割"
   ]
  },
  {
   "cell_type": "code",
   "execution_count": 1,
   "id": "c90906d2",
   "metadata": {},
   "outputs": [
    {
     "data": {
      "text/plain": [
       "array([[ 97,  83,  77,  90,  72],\n",
       "       [ 61,  55,  63,  89,  78],\n",
       "       [ 57,  54,  67,  62,  50],\n",
       "       [ 66, 100,  56,  83,  75],\n",
       "       [ 66,  68,  97,  67,  56]])"
      ]
     },
     "execution_count": 1,
     "metadata": {},
     "output_type": "execute_result"
    }
   ],
   "source": [
    "import numpy as np\n",
    "scores = np.random.randint(50,101,size=(5,5))\n",
    "scores"
   ]
  },
  {
   "cell_type": "code",
   "execution_count": 2,
   "id": "8e284da4",
   "metadata": {},
   "outputs": [
    {
     "data": {
      "text/plain": [
       "array([[77, 90, 72],\n",
       "       [63, 89, 78],\n",
       "       [67, 62, 50]])"
      ]
     },
     "execution_count": 2,
     "metadata": {},
     "output_type": "execute_result"
    }
   ],
   "source": [
    "scores[:3,2:]"
   ]
  },
  {
   "cell_type": "code",
   "execution_count": 3,
   "id": "8e77c022",
   "metadata": {},
   "outputs": [
    {
     "data": {
      "text/plain": [
       "array([[66, 68, 97, 67, 56]])"
      ]
     },
     "execution_count": 3,
     "metadata": {},
     "output_type": "execute_result"
    }
   ],
   "source": [
    "scores[4]\n",
    "scores[4,:]\n",
    "scores[4:,:]"
   ]
  },
  {
   "cell_type": "code",
   "execution_count": 4,
   "id": "a3bd1066",
   "metadata": {},
   "outputs": [
    {
     "data": {
      "text/plain": [
       "array([[ 97,  83],\n",
       "       [ 61,  55],\n",
       "       [ 57,  54],\n",
       "       [ 66, 100],\n",
       "       [ 66,  68]])"
      ]
     },
     "execution_count": 4,
     "metadata": {},
     "output_type": "execute_result"
    }
   ],
   "source": [
    "scores[:,:2]"
   ]
  },
  {
   "cell_type": "markdown",
   "id": "09582927",
   "metadata": {},
   "source": [
    "#### numpy的統計工具"
   ]
  },
  {
   "cell_type": "code",
   "execution_count": 5,
   "id": "47c15b1e",
   "metadata": {},
   "outputs": [
    {
     "data": {
      "text/plain": [
       "array([[ 99,  53,  60,  71,  83],\n",
       "       [ 84,  95,  52,  82,  56],\n",
       "       [ 73,  54,  62,  60,  66],\n",
       "       [ 54,  81,  91, 100,  64],\n",
       "       [ 77,  97,  98,  50,  96]])"
      ]
     },
     "execution_count": 5,
     "metadata": {},
     "output_type": "execute_result"
    }
   ],
   "source": [
    "scores = np.random.randint(50,101,size=(5,5))\n",
    "scores"
   ]
  },
  {
   "cell_type": "code",
   "execution_count": 6,
   "id": "0c991cda",
   "metadata": {},
   "outputs": [
    {
     "data": {
      "text/plain": [
       "array([366, 369, 315, 390, 418])"
      ]
     },
     "execution_count": 6,
     "metadata": {},
     "output_type": "execute_result"
    }
   ],
   "source": [
    "scores[:,0] + scores[:,1] + scores[:,2] + scores[:,3] + scores[:,4]"
   ]
  },
  {
   "cell_type": "code",
   "execution_count": 7,
   "id": "87898606",
   "metadata": {},
   "outputs": [
    {
     "data": {
      "text/plain": [
       "array([366, 369, 315, 390, 418])"
      ]
     },
     "execution_count": 7,
     "metadata": {},
     "output_type": "execute_result"
    }
   ],
   "source": [
    "#加總\n",
    "np.sum(scores,axis=1)"
   ]
  },
  {
   "cell_type": "code",
   "execution_count": 8,
   "id": "b50672de",
   "metadata": {},
   "outputs": [
    {
     "data": {
      "text/plain": [
       "array([73.2, 73.8, 63. , 78. , 83.6])"
      ]
     },
     "execution_count": 8,
     "metadata": {},
     "output_type": "execute_result"
    }
   ],
   "source": [
    "#平均\n",
    "np.mean(scores, axis=1)"
   ]
  },
  {
   "cell_type": "code",
   "execution_count": 9,
   "id": "5126cf01",
   "metadata": {},
   "outputs": [
    {
     "data": {
      "text/plain": [
       "array([ 99,  95,  73, 100,  98])"
      ]
     },
     "execution_count": 9,
     "metadata": {},
     "output_type": "execute_result"
    }
   ],
   "source": [
    "#最大\n",
    "np.max(scores,axis=1)"
   ]
  },
  {
   "cell_type": "code",
   "execution_count": 10,
   "id": "203b51ce",
   "metadata": {},
   "outputs": [
    {
     "data": {
      "text/plain": [
       "array([53, 52, 54, 54, 50])"
      ]
     },
     "execution_count": 10,
     "metadata": {},
     "output_type": "execute_result"
    }
   ],
   "source": [
    "#最小\n",
    "np.min(scores,axis=1)"
   ]
  },
  {
   "cell_type": "code",
   "execution_count": 11,
   "id": "2de972da",
   "metadata": {},
   "outputs": [
    {
     "data": {
      "text/plain": [
       "array([71., 82., 62., 81., 96.])"
      ]
     },
     "execution_count": 11,
     "metadata": {},
     "output_type": "execute_result"
    }
   ],
   "source": [
    "#中間數\n",
    "np.median(scores,axis=1)"
   ]
  },
  {
   "cell_type": "code",
   "execution_count": 12,
   "id": "f8771490",
   "metadata": {},
   "outputs": [
    {
     "data": {
      "text/plain": [
       "array([16.42437213, 16.80952111,  6.32455532, 16.9351705 , 18.51053754])"
      ]
     },
     "execution_count": 12,
     "metadata": {},
     "output_type": "execute_result"
    }
   ],
   "source": [
    "#標準差\n",
    "np.std(scores,axis=1)"
   ]
  }
 ],
 "metadata": {
  "kernelspec": {
   "display_name": "base",
   "language": "python",
   "name": "python3"
  },
  "language_info": {
   "codemirror_mode": {
    "name": "ipython",
    "version": 3
   },
   "file_extension": ".py",
   "mimetype": "text/x-python",
   "name": "python",
   "nbconvert_exporter": "python",
   "pygments_lexer": "ipython3",
   "version": "3.12.7"
  }
 },
 "nbformat": 4,
 "nbformat_minor": 5
}
