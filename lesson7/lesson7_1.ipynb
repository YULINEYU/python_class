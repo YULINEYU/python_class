{
 "cells": [
  {
   "cell_type": "markdown",
   "id": "c6559ae9",
   "metadata": {},
   "source": [
    "### function的呼叫方式"
   ]
  },
  {
   "cell_type": "markdown",
   "id": "4645c310",
   "metadata": {},
   "source": [
    "### 引數值的呼叫\n",
    "- 要依照參數的順序"
   ]
  },
  {
   "cell_type": "code",
   "execution_count": 1,
   "id": "33221dc3",
   "metadata": {},
   "outputs": [],
   "source": [
    "def menu(wine, entree, dessert):\n",
    "    print(f\"前酒:{wine}\")\n",
    "    print(f\"主餐:{entree}\")\n",
    "    print(f'甜點:{dessert}')"
   ]
  },
  {
   "cell_type": "code",
   "execution_count": 2,
   "id": "792a05a4",
   "metadata": {},
   "outputs": [
    {
     "name": "stdout",
     "output_type": "stream",
     "text": [
      "前酒:白酒\n",
      "主餐:牛排\n",
      "甜點:蛋糕\n"
     ]
    }
   ],
   "source": [
    "#引數值的呼叫\n",
    "menu('白酒', '牛排', '蛋糕')"
   ]
  },
  {
   "cell_type": "markdown",
   "id": "eb5acade",
   "metadata": {},
   "source": [
    "### 引數名稱的呼叫\n",
    "\n",
    "- 使用參數的名稱當作引數名稱\n",
    "- 可以不依照參數的順序"
   ]
  },
  {
   "cell_type": "code",
   "execution_count": null,
   "id": "2c1b2f16",
   "metadata": {},
   "outputs": [],
   "source": [
    "def menu(wine, entree, dessert):\n",
    "    print(f\"前酒:{wine}\")\n",
    "    print(f\"主餐:{entree}\")\n",
    "    print(f'甜點:{dessert}')"
   ]
  },
  {
   "cell_type": "code",
   "execution_count": 6,
   "id": "a9dfca6b",
   "metadata": {},
   "outputs": [
    {
     "name": "stdout",
     "output_type": "stream",
     "text": [
      "前酒:白酒\n",
      "主餐:牛排\n",
      "甜點:蛋糕\n"
     ]
    }
   ],
   "source": [
    "menu(entree='牛排',dessert='蛋糕',wine='白酒')"
   ]
  },
  {
   "cell_type": "markdown",
   "id": "ffb34d5b",
   "metadata": {},
   "source": [
    "### 混合呼叫\n",
    "- 前面一定先用引數值(位置),後面引數名稱呼叫\n",
    "- 使用引數名稱呼叫後,後面全部要使用引數名稱呼叫"
   ]
  },
  {
   "cell_type": "code",
   "execution_count": 7,
   "id": "2b539f1b",
   "metadata": {},
   "outputs": [],
   "source": [
    "def menu(wine, entree, dessert):\n",
    "    print(f\"前酒:{wine}\")\n",
    "    print(f\"主餐:{entree}\")\n",
    "    print(f'甜點:{dessert}')"
   ]
  },
  {
   "cell_type": "code",
   "execution_count": 8,
   "id": "31611c42",
   "metadata": {},
   "outputs": [
    {
     "name": "stdout",
     "output_type": "stream",
     "text": [
      "前酒:白酒\n",
      "主餐:牛排\n",
      "甜點:蛋糕\n"
     ]
    }
   ],
   "source": [
    "menu('白酒',entree='牛排',dessert='蛋糕')"
   ]
  },
  {
   "cell_type": "code",
   "execution_count": null,
   "id": "453a532d",
   "metadata": {},
   "outputs": [],
   "source": [
    "menu('白酒',entree='牛排',dessert='蛋糕')"
   ]
  },
  {
   "cell_type": "code",
   "execution_count": 9,
   "id": "db19d082",
   "metadata": {},
   "outputs": [
    {
     "name": "stdout",
     "output_type": "stream",
     "text": [
      "前酒:白酒\n",
      "主餐:牛排\n",
      "甜點:蛋糕\n"
     ]
    }
   ],
   "source": [
    "menu('白酒',dessert='蛋糕',entree='牛排')"
   ]
  },
  {
   "cell_type": "markdown",
   "id": "26df1f4b",
   "metadata": {},
   "source": [
    "### 定義參數時,指定參數的預設值\n",
    "- 有預設值的參數,一定要定義在最後面"
   ]
  },
  {
   "cell_type": "code",
   "execution_count": 10,
   "id": "588562a2",
   "metadata": {},
   "outputs": [],
   "source": [
    "def menu(wine, entree, dessert='奶昔'):\n",
    "    print(f\"前酒:{wine}\")\n",
    "    print(f\"主餐:{entree}\")\n",
    "    print(f'甜點:{dessert}')"
   ]
  },
  {
   "cell_type": "markdown",
   "id": "dcc69a4e",
   "metadata": {},
   "source": [
    "### 呼叫時可以省略有預設值的參數"
   ]
  },
  {
   "cell_type": "code",
   "execution_count": 11,
   "id": "8e7089b5",
   "metadata": {},
   "outputs": [
    {
     "name": "stdout",
     "output_type": "stream",
     "text": [
      "前酒:紅酒\n",
      "主餐:牛排\n",
      "甜點:奶昔\n"
     ]
    }
   ],
   "source": [
    "menu('紅酒','牛排')"
   ]
  },
  {
   "cell_type": "markdown",
   "id": "fecdd3ac",
   "metadata": {},
   "source": [
    "### 呼叫時可以取代有預設值的參數"
   ]
  },
  {
   "cell_type": "code",
   "execution_count": 12,
   "id": "674e7242",
   "metadata": {},
   "outputs": [
    {
     "name": "stdout",
     "output_type": "stream",
     "text": [
      "前酒:紅酒\n",
      "主餐:牛排\n",
      "甜點:蛋糕\n"
     ]
    }
   ],
   "source": [
    "menu('紅酒','牛排',dessert='蛋糕')"
   ]
  }
 ],
 "metadata": {
  "kernelspec": {
   "display_name": "base",
   "language": "python",
   "name": "python3"
  },
  "language_info": {
   "codemirror_mode": {
    "name": "ipython",
    "version": 3
   },
   "file_extension": ".py",
   "mimetype": "text/x-python",
   "name": "python",
   "nbconvert_exporter": "python",
   "pygments_lexer": "ipython3",
   "version": "3.13.2"
  }
 },
 "nbformat": 4,
 "nbformat_minor": 5
}
