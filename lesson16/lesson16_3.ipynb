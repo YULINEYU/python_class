{
 "cells": [
  {
   "cell_type": "markdown",
   "id": "7dd74896",
   "metadata": {},
   "source": [
    "https://www.perplexity.ai/search/9037605f-7d32-4bed-887a-66ffe09265ab"
   ]
  },
  {
   "cell_type": "code",
   "execution_count": 1,
   "id": "89db6b90",
   "metadata": {},
   "outputs": [],
   "source": [
    "import numpy as np\n",
    "import pandas as pd\n",
    "#建立50位學生5個分數,每個分數的值是50~100之間的隨機整數\n",
    "scores = np.random.randint(50,101,size=(50, 5))\n",
    "score_pd = pd.DataFrame(scores,\n",
    "             columns=['國文', '英文', '數學', '地理', '歷史'],\n",
    "             index=[f'學生{index}' for index in range(1,51)])\n",
    "type(score_pd.index)\n",
    "score_pd.columns.name = '科目'\n",
    "score_pd.index.name = '學號'\n",
    "score_pd.to_excel('3年7班.xlsx',index=True)"
   ]
  },
  {
   "cell_type": "code",
   "execution_count": 3,
   "id": "dbe95bb2",
   "metadata": {},
   "outputs": [
    {
     "ename": "NameError",
     "evalue": "name 'excel_folder' is not defined",
     "output_type": "error",
     "traceback": [
      "\u001b[1;31m---------------------------------------------------------------------------\u001b[0m",
      "\u001b[1;31mNameError\u001b[0m                                 Traceback (most recent call last)",
      "Cell \u001b[1;32mIn[3], line 29\u001b[0m\n\u001b[0;32m     26\u001b[0m     \u001b[38;5;28mprint\u001b[39m(\u001b[38;5;124mf\u001b[39m\u001b[38;5;124m'\u001b[39m\u001b[38;5;132;01m{\u001b[39;00mfile_name\u001b[38;5;132;01m}\u001b[39;00m\u001b[38;5;124m存檔完成\u001b[39m\u001b[38;5;124m'\u001b[39m)\n\u001b[0;32m     28\u001b[0m \u001b[38;5;66;03m# 針對excel_folder資料夾內的每個Excel檔案進行排名處理\u001b[39;00m\n\u001b[1;32m---> 29\u001b[0m \u001b[38;5;28;01mfor\u001b[39;00m file_name \u001b[38;5;129;01min\u001b[39;00m os\u001b[38;5;241m.\u001b[39mlistdir(excel_folder):\n\u001b[0;32m     30\u001b[0m     file_path \u001b[38;5;241m=\u001b[39m os\u001b[38;5;241m.\u001b[39mpath\u001b[38;5;241m.\u001b[39mjoin(excel_folder, file_name)\n\u001b[0;32m     31\u001b[0m     process_ranking(file_path)\n",
      "\u001b[1;31mNameError\u001b[0m: name 'excel_folder' is not defined"
     ]
    }
   ],
   "source": [
    "import os\n",
    "\n",
    "def process_ranking(file_path: str):\n",
    "    # 讀取Excel檔案，學號作為索引\n",
    "    score_df = pd.read_excel(file_path, index_col='學號')\n",
    "    # 計算每位學生的總分\n",
    "    sum_series = np.sum(score_df, axis=1)\n",
    "    # 計算每位學生的平均分數\n",
    "    mean_series = score_df.mean(axis=1)\n",
    "    # 將總分與平均分數加入成績表\n",
    "    score_df['總分'] = sum_series\n",
    "    score_df['平均'] = mean_series\n",
    "    # 依照總分由高到低排序\n",
    "    sorted_score_df = score_df.sort_values(by='總分', ascending=False)\n",
    "    # 計算名次（總分高者名次前面）\n",
    "    rank_series = sorted_score_df['總分'].rank(ascending=False, method='min')\n",
    "    sorted_score_df['名次'] = rank_series\n",
    "\n",
    "    # 建立儲存完成檔案的資料夾\n",
    "    finished_folder = os.path.join(script_root, \"excel_finished\")\n",
    "    os.makedirs(finished_folder, exist_ok=True)\n",
    "    file_name = os.path.basename(file_path)\n",
    "    save_path = os.path.join(finished_folder, file_name)\n",
    "    # 儲存排序後的成績表到新的Excel檔案\n",
    "    sorted_score_df.to_excel(save_path, sheet_name=file_name)\n",
    "    print(f'{file_name}存檔完成')\n",
    "\n",
    "# 針對excel_folder資料夾內的每個Excel檔案進行排名處理\n",
    "for file_name in os.listdir(excel_folder):\n",
    "    file_path = os.path.join(excel_folder, file_name)\n",
    "    process_ranking(file_path)"
   ]
  }
 ],
 "metadata": {
  "kernelspec": {
   "display_name": "base",
   "language": "python",
   "name": "python3"
  },
  "language_info": {
   "codemirror_mode": {
    "name": "ipython",
    "version": 3
   },
   "file_extension": ".py",
   "mimetype": "text/x-python",
   "name": "python",
   "nbconvert_exporter": "python",
   "pygments_lexer": "ipython3",
   "version": "3.12.7"
  }
 },
 "nbformat": 4,
 "nbformat_minor": 5
}
