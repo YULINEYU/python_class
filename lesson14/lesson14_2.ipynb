{
 "cells": [
  {
   "cell_type": "markdown",
   "id": "5898089e",
   "metadata": {},
   "source": [
    "# ndarry的索引(index),切割(slice)"
   ]
  },
  {
   "cell_type": "code",
   "execution_count": 6,
   "id": "5d400949",
   "metadata": {},
   "outputs": [
    {
     "data": {
      "text/plain": [
       "array([7, 8, 9])"
      ]
     },
     "execution_count": 6,
     "metadata": {},
     "output_type": "execute_result"
    }
   ],
   "source": [
    "import numpy as np\n",
    "\n",
    "arr = np.arange(10)\n",
    "arr[0]\n",
    "arr[-1]\n",
    "arr[:3]\n",
    "arr[-3:]"
   ]
  },
  {
   "cell_type": "code",
   "execution_count": 7,
   "id": "6d680d0b",
   "metadata": {},
   "outputs": [
    {
     "data": {
      "text/plain": [
       "95"
      ]
     },
     "execution_count": 7,
     "metadata": {},
     "output_type": "execute_result"
    }
   ],
   "source": [
    "import random\n",
    "random.randint(50,100)"
   ]
  },
  {
   "cell_type": "code",
   "execution_count": 13,
   "id": "cda3602c",
   "metadata": {},
   "outputs": [
    {
     "data": {
      "text/plain": [
       "(50, 5)"
      ]
     },
     "execution_count": 13,
     "metadata": {},
     "output_type": "execute_result"
    }
   ],
   "source": [
    "np.random.randint(50, 101, size=5)\n",
    "scores = np.random.randint(50,101, size=(50, 5))\n",
    "scores.size\n",
    "scores.shape"
   ]
  }
 ],
 "metadata": {
  "kernelspec": {
   "display_name": "base",
   "language": "python",
   "name": "python3"
  },
  "language_info": {
   "codemirror_mode": {
    "name": "ipython",
    "version": 3
   },
   "file_extension": ".py",
   "mimetype": "text/x-python",
   "name": "python",
   "nbconvert_exporter": "python",
   "pygments_lexer": "ipython3",
   "version": "3.12.7"
  }
 },
 "nbformat": 4,
 "nbformat_minor": 5
}
