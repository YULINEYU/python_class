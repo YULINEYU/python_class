{
 "cells": [
  {
   "cell_type": "markdown",
   "id": "5898089e",
   "metadata": {},
   "source": [
    "# ndarry的索引(index),切割(slice)"
   ]
  },
  {
   "cell_type": "code",
   "execution_count": 6,
   "id": "5d400949",
   "metadata": {},
   "outputs": [
    {
     "data": {
      "text/plain": [
       "array([7, 8, 9])"
      ]
     },
     "execution_count": 6,
     "metadata": {},
     "output_type": "execute_result"
    }
   ],
   "source": [
    "import numpy as np\n",
    "\n",
    "arr = np.arange(10)\n",
    "arr[0]\n",
    "arr[-1]\n",
    "arr[:3]\n",
    "arr[-3:]"
   ]
  },
  {
   "cell_type": "code",
   "execution_count": 7,
   "id": "6d680d0b",
   "metadata": {},
   "outputs": [
    {
     "data": {
      "text/plain": [
       "95"
      ]
     },
     "execution_count": 7,
     "metadata": {},
     "output_type": "execute_result"
    }
   ],
   "source": [
    "import random\n",
    "random.randint(50,100)"
   ]
  },
  {
   "cell_type": "code",
   "execution_count": 13,
   "id": "cda3602c",
   "metadata": {},
   "outputs": [
    {
     "data": {
      "text/plain": [
       "(50, 5)"
      ]
     },
     "execution_count": 13,
     "metadata": {},
     "output_type": "execute_result"
    }
   ],
   "source": [
    "np.random.randint(50, 101, size=5)\n",
    "scores = np.random.randint(50,101, size=(50, 5))\n",
    "scores.size\n",
    "scores.shape"
   ]
  },
  {
   "cell_type": "code",
   "execution_count": 16,
   "id": "67a0bfcc",
   "metadata": {},
   "outputs": [
    {
     "data": {
      "text/plain": [
       "array([[ 97],\n",
       "       [ 54],\n",
       "       [ 91],\n",
       "       [ 60],\n",
       "       [ 64],\n",
       "       [ 85],\n",
       "       [ 55],\n",
       "       [ 76],\n",
       "       [ 54],\n",
       "       [ 82],\n",
       "       [ 56],\n",
       "       [ 60],\n",
       "       [100],\n",
       "       [ 53],\n",
       "       [ 61],\n",
       "       [ 93],\n",
       "       [ 71],\n",
       "       [ 66],\n",
       "       [ 66],\n",
       "       [ 72],\n",
       "       [ 91],\n",
       "       [ 95],\n",
       "       [ 77],\n",
       "       [ 74],\n",
       "       [ 61],\n",
       "       [ 56],\n",
       "       [ 94],\n",
       "       [ 74],\n",
       "       [ 93],\n",
       "       [ 96],\n",
       "       [ 51],\n",
       "       [ 85],\n",
       "       [ 69],\n",
       "       [ 71],\n",
       "       [ 51],\n",
       "       [ 89],\n",
       "       [ 51],\n",
       "       [ 83],\n",
       "       [ 97],\n",
       "       [ 85],\n",
       "       [ 98],\n",
       "       [ 82],\n",
       "       [ 58],\n",
       "       [ 92],\n",
       "       [ 53],\n",
       "       [ 66],\n",
       "       [ 51],\n",
       "       [ 95],\n",
       "       [ 73],\n",
       "       [ 89]])"
      ]
     },
     "execution_count": 16,
     "metadata": {},
     "output_type": "execute_result"
    }
   ],
   "source": [
    "scores[:,0]\n",
    "scores[:,0:1]"
   ]
  },
  {
   "cell_type": "code",
   "execution_count": 19,
   "id": "7946cf99",
   "metadata": {},
   "outputs": [
    {
     "data": {
      "text/plain": [
       "array([[ 97,  54,  92, 100,  92]])"
      ]
     },
     "execution_count": 19,
     "metadata": {},
     "output_type": "execute_result"
    }
   ],
   "source": [
    "scores[0,:]\n",
    "scores[0:1,:]"
   ]
  },
  {
   "cell_type": "code",
   "execution_count": 23,
   "id": "45753eee",
   "metadata": {},
   "outputs": [
    {
     "data": {
      "text/plain": [
       "array([87. , 67.2, 75.4, 75.6, 71.6, 79. , 67.6, 82.4, 73.6, 79.2, 62.2,\n",
       "       75.8, 77.4, 66.6, 79.6, 89. , 76.4, 73.8, 73.4, 63.4, 71.8, 87.4,\n",
       "       76.8, 74.6, 72.4, 73. , 73.4, 81. , 83.8, 88.8, 70. , 70.4, 81.2,\n",
       "       74.4, 65.2, 83.8, 84. , 68.8, 83.2, 85.6, 80.2, 79. , 66.2, 76.4,\n",
       "       69.8, 75.2, 69.2, 79.8, 74.6, 71.4])"
      ]
     },
     "execution_count": 23,
     "metadata": {},
     "output_type": "execute_result"
    }
   ],
   "source": [
    "np.sum(scores,axis=1)\n",
    "np.mean(scores, axis=1)"
   ]
  }
 ],
 "metadata": {
  "kernelspec": {
   "display_name": "base",
   "language": "python",
   "name": "python3"
  },
  "language_info": {
   "codemirror_mode": {
    "name": "ipython",
    "version": 3
   },
   "file_extension": ".py",
   "mimetype": "text/x-python",
   "name": "python",
   "nbconvert_exporter": "python",
   "pygments_lexer": "ipython3",
   "version": "3.12.7"
  }
 },
 "nbformat": 4,
 "nbformat_minor": 5
}
