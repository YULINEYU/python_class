{
 "cells": [
  {
   "cell_type": "markdown",
   "id": "75cfe8ce",
   "metadata": {},
   "source": [
    "#### dict"
   ]
  },
  {
   "cell_type": "code",
   "execution_count": 1,
   "id": "3ea6e999",
   "metadata": {},
   "outputs": [
    {
     "data": {
      "text/plain": [
       "dict"
      ]
     },
     "execution_count": 1,
     "metadata": {},
     "output_type": "execute_result"
    }
   ],
   "source": [
    "dict1 = {'one':1, 'two':2, 'three':3, 'four':4, 'five':5}\n",
    "type(dict1)"
   ]
  },
  {
   "cell_type": "code",
   "execution_count": 2,
   "id": "d9654054",
   "metadata": {},
   "outputs": [
    {
     "ename": "KeyError",
     "evalue": "'six'",
     "output_type": "error",
     "traceback": [
      "\u001b[1;31m---------------------------------------------------------------------------\u001b[0m",
      "\u001b[1;31mKeyError\u001b[0m                                  Traceback (most recent call last)",
      "Cell \u001b[1;32mIn[2], line 2\u001b[0m\n\u001b[0;32m      1\u001b[0m dict1[\u001b[38;5;124m'\u001b[39m\u001b[38;5;124mone\u001b[39m\u001b[38;5;124m'\u001b[39m]\n\u001b[1;32m----> 2\u001b[0m dict1[\u001b[38;5;124m'\u001b[39m\u001b[38;5;124msix\u001b[39m\u001b[38;5;124m'\u001b[39m]\n",
      "\u001b[1;31mKeyError\u001b[0m: 'six'"
     ]
    }
   ],
   "source": [
    "dict1['one']\n",
    "dict1['six']"
   ]
  },
  {
   "cell_type": "code",
   "execution_count": 3,
   "id": "e48115c8",
   "metadata": {},
   "outputs": [],
   "source": [
    "dict1.get('one')\n",
    "dict1.get('six')"
   ]
  },
  {
   "cell_type": "code",
   "execution_count": 4,
   "id": "46f375a9",
   "metadata": {},
   "outputs": [
    {
     "name": "stdout",
     "output_type": "stream",
     "text": [
      "one\n",
      "two\n",
      "three\n",
      "four\n",
      "five\n"
     ]
    }
   ],
   "source": [
    "for key in dict1.keys():\n",
    "    print(key)"
   ]
  },
  {
   "cell_type": "code",
   "execution_count": 5,
   "id": "df41436a",
   "metadata": {},
   "outputs": [
    {
     "name": "stdout",
     "output_type": "stream",
     "text": [
      "1\n",
      "2\n",
      "3\n",
      "4\n",
      "5\n"
     ]
    }
   ],
   "source": [
    "for value in dict1.values():\n",
    "    print(value)"
   ]
  },
  {
   "cell_type": "code",
   "execution_count": 6,
   "id": "d9e1dd0c",
   "metadata": {},
   "outputs": [
    {
     "name": "stdout",
     "output_type": "stream",
     "text": [
      "one\n",
      "1\n",
      "=======\n",
      "two\n",
      "2\n",
      "=======\n",
      "three\n",
      "3\n",
      "=======\n",
      "four\n",
      "4\n",
      "=======\n",
      "five\n",
      "5\n",
      "=======\n"
     ]
    }
   ],
   "source": [
    "for key,value in dict1.items():\n",
    "    print(key)\n",
    "    print(value)\n",
    "    print(\"=======\")"
   ]
  }
 ],
 "metadata": {
  "kernelspec": {
   "display_name": "base",
   "language": "python",
   "name": "python3"
  },
  "language_info": {
   "codemirror_mode": {
    "name": "ipython",
    "version": 3
   },
   "file_extension": ".py",
   "mimetype": "text/x-python",
   "name": "python",
   "nbconvert_exporter": "python",
   "pygments_lexer": "ipython3",
   "version": "3.12.7"
  }
 },
 "nbformat": 4,
 "nbformat_minor": 5
}
